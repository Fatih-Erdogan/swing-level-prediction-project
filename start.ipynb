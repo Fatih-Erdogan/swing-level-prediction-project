{
 "cells": [
  {
   "cell_type": "code",
   "execution_count": null,
   "id": "96699f51",
   "metadata": {},
   "outputs": [],
   "source": [
    "# create and activate the environment\n",
    "!pip install virtualenv\n",
    "!virtualenv venv\n",
    "# for MacOS\n",
    "!source venv/bin/activate\n",
    "# for windows\n",
    "# !.\\venv\\Scripts\\activate\n",
    "!pip install -r requirements.txt"
   ]
  },
  {
   "cell_type": "markdown",
   "id": "ec06c79e",
   "metadata": {},
   "source": [
    "Download the data from the link below and place the data folder under the project files:\n",
    "https://drive.google.com/drive/folders/1ope1MGf7rgxa0qQKe6mPrSihKOpwH2UP?usp=drive_link"
   ]
  },
  {
   "cell_type": "code",
   "execution_count": null,
   "id": "3eb14764",
   "metadata": {},
   "outputs": [],
   "source": [
    "# to pretrain a model on all forex pairs:\n",
    "!python t-pretrain.py --num 0"
   ]
  },
  {
   "cell_type": "code",
   "execution_count": null,
   "id": "3af70761",
   "metadata": {},
   "outputs": [],
   "source": [
    "# to finetune a model on a specific pair:\n",
    "!python t-finetune.py -t"
   ]
  },
  {
   "cell_type": "code",
   "execution_count": null,
   "id": "ffa2a81b",
   "metadata": {},
   "outputs": [],
   "source": [
    "# to evaluate a model:\n",
    "!python t-finetune-main.py -e"
   ]
  }
 ],
 "metadata": {
  "kernelspec": {
   "display_name": "Python 3 (ipykernel)",
   "language": "python",
   "name": "python3"
  },
  "language_info": {
   "codemirror_mode": {
    "name": "ipython",
    "version": 3
   },
   "file_extension": ".py",
   "mimetype": "text/x-python",
   "name": "python",
   "nbconvert_exporter": "python",
   "pygments_lexer": "ipython3",
   "version": "3.7.16"
  }
 },
 "nbformat": 4,
 "nbformat_minor": 5
}
