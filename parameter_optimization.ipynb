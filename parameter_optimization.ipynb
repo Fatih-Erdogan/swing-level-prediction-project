{
 "cells": [
  {
   "cell_type": "code",
   "execution_count": 1,
   "id": "57fcee6d",
   "metadata": {},
   "outputs": [],
   "source": [
    "import json\n",
    "import os.path\n",
    "\n",
    "import pandas as pd\n",
    "import torch.optim as optim\n",
    "import torch\n",
    "from torch.utils.data import DataLoader\n",
    "\n",
    "from utils import find_last_model, load_data, handle_zigzag, label_data\n",
    "from dataloader.SwingDatasets import HourlyDataset\n",
    "from trainer import HourlySwingModelTrainer\n",
    "from model.swing_model import HourlySwingModel"
   ]
  },
  {
   "cell_type": "code",
   "execution_count": 2,
   "id": "4884542c",
   "metadata": {},
   "outputs": [],
   "source": [
    "def prepare_data(data_df, tz):\n",
    "    handle_zigzag(data_df)\n",
    "    data_df.drop([\"Volume MA\", \"RelativeIndice\", \"HighOrLow\"], axis=1, inplace=True)\n",
    "    data_df = data_df[['time', 'open', 'high', 'low', 'close', 'Volume', 'zigzag']]\n",
    "    data_df.columns = ['time', 'open', 'high', 'low', 'close', 'volume', 'zigzag']\n",
    "    data_df['time'] = pd.to_datetime(data_df['time'], utc=True)\n",
    "    data_df['time'] = data_df['time'].dt.tz_convert(tz)\n",
    "    label_data(data_df)\n",
    "    data_df = data_df[data_df.value.notna()]\n",
    "    assert data_df.shape[0] == (data_df.index[-1] + 1)\n",
    "    assert len(data_df[data_df.isna().any(axis=1)]) == 0\n",
    "\n",
    "    return data_df"
   ]
  },
  {
   "cell_type": "code",
   "execution_count": 3,
   "id": "bc6217dd",
   "metadata": {},
   "outputs": [],
   "source": [
    "data_base = \"data/\"\n",
    "out_base = \"output/\"\n",
    "path_dict = {\n",
    "    \"audusd\": data_base + \"AUDUSD.csv\",\n",
    "    \"eurusd\": data_base + \"EURUSD.csv\",\n",
    "    \"sp\": data_base + \"SP.csv\",\n",
    "    \"btcusdt\": data_base + \"BTCUSDT.csv\",\n",
    "    \"dogeusdt\": data_base + \"DOGEUSDT.csv\",\n",
    "}\n",
    "tz_dict = {\n",
    "    \"audusd\": \"Etc/GMT-2\",   # UTC+2\n",
    "    \"eurusd\": \"Etc/GMT-2\",   # UTC+2\n",
    "    \"sp\": \"Etc/GMT-2\",       # UTC+2\n",
    "    \"btcusdt\": \"Etc/GMT-0\",  # UTC\n",
    "    \"dogeusdt\": \"Etc/GMT-0\", # UTC\n",
    "}"
   ]
  },
  {
   "cell_type": "code",
   "execution_count": 4,
   "id": "ae5a0117",
   "metadata": {},
   "outputs": [],
   "source": [
    "with open(\"config_train.json\", \"r\") as file:\n",
    "    config_train = json.load(file)\n",
    "\n",
    "device = torch.device(\"cuda\" if torch.cuda.is_available() else \"cpu\")\n",
    "\n",
    "# train cfg\n",
    "PAIR_PATH = path_dict[config_train[\"pair\"]]\n",
    "PAIR_TZ = tz_dict[config_train[\"pair\"]]\n",
    "WINDOW_SIZE = config_train[\"window_size\"]\n",
    "BATCH_SIZE = config_train[\"batch_size\"]\n",
    "VALUE_ONLY = config_train[\"value_only\"]\n",
    "LR = config_train[\"lr\"]\n",
    "EPOCHS = config_train[\"epochs\"]\n",
    "EVAL_PERIOD = config_train[\"eval_period\"]\n",
    "CHECKPOINT_PERIOD = config_train[\"checkpoint_period\"]\n",
    "MODEL_OUT_PATH = config_train[\"model_out\"]"
   ]
  },
  {
   "cell_type": "code",
   "execution_count": 5,
   "id": "0b32e197",
   "metadata": {},
   "outputs": [],
   "source": [
    "# model cfg\n",
    "with open(\"config_model.json\", \"r\") as file:\n",
    "    config_model = json.load(file)\n",
    "\n",
    "inp_dim = config_model[\"inp_dim\"]\n",
    "metadata_dim = config_model[\"metadata_dim\"]\n",
    "metadata_bias = config_model[\"metadata_bias\"]\n",
    "metadata_gate_bias = config_model[\"metadata_gate_bias\"]\n",
    "fusion_model_dim = config_model[\"fusion_model_dim\"]\n",
    "fusion_num_heads = config_model[\"fusion_num_heads\"]\n",
    "fusion_num_layers = config_model[\"fusion_num_layers\"]\n",
    "fusion_apply_grn = config_model[\"fusion_apply_grn\"]\n",
    "fusion_dropout = config_model[\"fusion_dropout\"]\n",
    "lstm_num_layers = config_model[\"lstm_num_layers\"]\n",
    "lstm_bidirectional = config_model[\"lstm_bidirectional\"]\n",
    "lstm_dropout = config_model[\"lstm_dropout\"]\n",
    "loss_punish_cert = config_model[\"loss_punish_cert\"]"
   ]
  },
  {
   "cell_type": "code",
   "execution_count": 6,
   "id": "7e0c92e1",
   "metadata": {},
   "outputs": [],
   "source": [
    "# load model\n",
    "model = HourlySwingModel(inp_dim=inp_dim, metadata_dim=metadata_dim, metadata_bias=metadata_bias,\n",
    "                         metadata_gate_bias=metadata_gate_bias, fusion_model_dim=fusion_model_dim,\n",
    "                         fusion_num_heads=fusion_num_heads, fusion_num_layers=fusion_num_layers,\n",
    "                         fusion_apply_grn=fusion_apply_grn, fusion_dropout=fusion_dropout,\n",
    "                         lstm_num_layers=lstm_num_layers, lstm_bidirectional=lstm_bidirectional,\n",
    "                         lstm_dropout=lstm_dropout, loss_punish_cert=loss_punish_cert)\n",
    "model.to(device)\n",
    "if config_train[\"load_model\"] is not None:\n",
    "    model_file = find_last_model(config_train[\"load_model\"])\n",
    "    print(f\"Loading model from: {os.path.join(config_train['load_model'], model_file)}\")\n",
    "    model.load_state_dict(torch.load(os.path.join(config_train[\"load_model\"], model_file), map_location=device))"
   ]
  },
  {
   "cell_type": "code",
   "execution_count": 7,
   "id": "ef01b6d0",
   "metadata": {},
   "outputs": [],
   "source": [
    "# load data\n",
    "pair_data = load_data(PAIR_PATH, add_zigzag_col=True)\n",
    "pair_data = prepare_data(pair_data, PAIR_TZ)\n",
    "train_dataset = HourlyDataset(pair_data, WINDOW_SIZE, \"train\")\n",
    "dev_dataset = HourlyDataset(pair_data, WINDOW_SIZE, \"dev\")\n",
    "test_dataset = HourlyDataset(pair_data, WINDOW_SIZE, \"test\")\n",
    "\n",
    "train_dataloader = DataLoader(train_dataset, batch_size=BATCH_SIZE, shuffle=True, collate_fn=HourlyDataset.get_collate_fn())\n",
    "dev_dataloader = DataLoader(dev_dataset, batch_size=16, shuffle=False, collate_fn=HourlyDataset.get_collate_fn())\n",
    "test_dataloader = DataLoader(test_dataset, batch_size=16, shuffle=False, collate_fn=HourlyDataset.get_collate_fn())"
   ]
  },
  {
   "cell_type": "code",
   "execution_count": 9,
   "id": "e5d9ae9c",
   "metadata": {},
   "outputs": [
    {
     "name": "stdout",
     "output_type": "stream",
     "text": [
      "Model configuration saved to out/audusd/checkpoint1/model_config.json\n",
      "Training configuration saved to out/audusd/checkpoint1/training_config.json\n"
     ]
    },
    {
     "name": "stderr",
     "output_type": "stream",
     "text": [
      "Epoch 1/10:  26%|████▋             | 112/428 [00:25<01:13,  4.32it/s, loss=4.26]\n"
     ]
    },
    {
     "ename": "KeyboardInterrupt",
     "evalue": "",
     "output_type": "error",
     "traceback": [
      "\u001b[0;31m---------------------------------------------------------------------------\u001b[0m",
      "\u001b[0;31mKeyboardInterrupt\u001b[0m                         Traceback (most recent call last)",
      "\u001b[0;32m/var/folders/dc/6xmpmcb90k96xtm9l2f50tph0000gn/T/ipykernel_30420/4020381285.py\u001b[0m in \u001b[0;36m<module>\u001b[0;34m\u001b[0m\n\u001b[1;32m      8\u001b[0m     \u001b[0mtrainer\u001b[0m \u001b[0;34m=\u001b[0m \u001b[0mHourlySwingModelTrainer\u001b[0m\u001b[0;34m(\u001b[0m\u001b[0mmodel\u001b[0m\u001b[0;34m,\u001b[0m \u001b[0mtrain_dataloader\u001b[0m\u001b[0;34m,\u001b[0m \u001b[0mdev_dataloader\u001b[0m\u001b[0;34m,\u001b[0m \u001b[0mtest_dataloader\u001b[0m\u001b[0;34m,\u001b[0m \u001b[0moptimizer_reg\u001b[0m\u001b[0;34m,\u001b[0m \u001b[0mdevice\u001b[0m\u001b[0;34m)\u001b[0m\u001b[0;34m\u001b[0m\u001b[0;34m\u001b[0m\u001b[0m\n\u001b[1;32m      9\u001b[0m     trainer.train(epochs=EPOCHS, eval_period=EVAL_PERIOD,\n\u001b[0;32m---> 10\u001b[0;31m                   checkpoint_period=CHECKPOINT_PERIOD, out_path=os.path.join(MODEL_OUT_PATH, \"reg\"))\n\u001b[0m\u001b[1;32m     11\u001b[0m \u001b[0;34m\u001b[0m\u001b[0m\n\u001b[1;32m     12\u001b[0m \u001b[0;31m# train for certitude as well\u001b[0m\u001b[0;34m\u001b[0m\u001b[0;34m\u001b[0m\u001b[0;34m\u001b[0m\u001b[0m\n",
      "\u001b[0;32m~/Desktop/Fall 2023/COMP441/Project/code/trainer.py\u001b[0m in \u001b[0;36mtrain\u001b[0;34m(self, epochs, eval_period, checkpoint_period, out_path)\u001b[0m\n\u001b[1;32m     26\u001b[0m                     \u001b[0mbatch_count\u001b[0m \u001b[0;34m+=\u001b[0m \u001b[0;36m1\u001b[0m\u001b[0;34m\u001b[0m\u001b[0;34m\u001b[0m\u001b[0m\n\u001b[1;32m     27\u001b[0m                     \u001b[0mself\u001b[0m\u001b[0;34m.\u001b[0m\u001b[0moptimizer\u001b[0m\u001b[0;34m.\u001b[0m\u001b[0mzero_grad\u001b[0m\u001b[0;34m(\u001b[0m\u001b[0;34m)\u001b[0m\u001b[0;34m\u001b[0m\u001b[0;34m\u001b[0m\u001b[0m\n\u001b[0;32m---> 28\u001b[0;31m                     \u001b[0moutputs\u001b[0m \u001b[0;34m=\u001b[0m \u001b[0mself\u001b[0m\u001b[0;34m.\u001b[0m\u001b[0mmodel\u001b[0m\u001b[0;34m(\u001b[0m\u001b[0minputs\u001b[0m\u001b[0;34m)\u001b[0m\u001b[0;34m\u001b[0m\u001b[0;34m\u001b[0m\u001b[0m\n\u001b[0m\u001b[1;32m     29\u001b[0m                     \u001b[0mloss\u001b[0m \u001b[0;34m=\u001b[0m \u001b[0moutputs\u001b[0m\u001b[0;34m[\u001b[0m\u001b[0;34m-\u001b[0m\u001b[0;36m1\u001b[0m\u001b[0;34m]\u001b[0m\u001b[0;34m\u001b[0m\u001b[0;34m\u001b[0m\u001b[0m\n\u001b[1;32m     30\u001b[0m                     \u001b[0mloss\u001b[0m\u001b[0;34m.\u001b[0m\u001b[0mbackward\u001b[0m\u001b[0;34m(\u001b[0m\u001b[0;34m)\u001b[0m\u001b[0;34m\u001b[0m\u001b[0;34m\u001b[0m\u001b[0m\n",
      "\u001b[0;32m~/opt/anaconda3/envs/comp541/lib/python3.7/site-packages/torch/nn/modules/module.py\u001b[0m in \u001b[0;36m_call_impl\u001b[0;34m(self, *input, **kwargs)\u001b[0m\n\u001b[1;32m   1049\u001b[0m         if not (self._backward_hooks or self._forward_hooks or self._forward_pre_hooks or _global_backward_hooks\n\u001b[1;32m   1050\u001b[0m                 or _global_forward_hooks or _global_forward_pre_hooks):\n\u001b[0;32m-> 1051\u001b[0;31m             \u001b[0;32mreturn\u001b[0m \u001b[0mforward_call\u001b[0m\u001b[0;34m(\u001b[0m\u001b[0;34m*\u001b[0m\u001b[0minput\u001b[0m\u001b[0;34m,\u001b[0m \u001b[0;34m**\u001b[0m\u001b[0mkwargs\u001b[0m\u001b[0;34m)\u001b[0m\u001b[0;34m\u001b[0m\u001b[0;34m\u001b[0m\u001b[0m\n\u001b[0m\u001b[1;32m   1052\u001b[0m         \u001b[0;31m# Do not call functions when jit is used\u001b[0m\u001b[0;34m\u001b[0m\u001b[0;34m\u001b[0m\u001b[0;34m\u001b[0m\u001b[0m\n\u001b[1;32m   1053\u001b[0m         \u001b[0mfull_backward_hooks\u001b[0m\u001b[0;34m,\u001b[0m \u001b[0mnon_full_backward_hooks\u001b[0m \u001b[0;34m=\u001b[0m \u001b[0;34m[\u001b[0m\u001b[0;34m]\u001b[0m\u001b[0;34m,\u001b[0m \u001b[0;34m[\u001b[0m\u001b[0;34m]\u001b[0m\u001b[0;34m\u001b[0m\u001b[0;34m\u001b[0m\u001b[0m\n",
      "\u001b[0;32m~/Desktop/Fall 2023/COMP441/Project/code/model/swing_model.py\u001b[0m in \u001b[0;36mforward\u001b[0;34m(self, inp)\u001b[0m\n\u001b[1;32m     68\u001b[0m         \u001b[0;31m# states    -> BS * hid_dim\u001b[0m\u001b[0;34m\u001b[0m\u001b[0;34m\u001b[0m\u001b[0;34m\u001b[0m\u001b[0m\n\u001b[1;32m     69\u001b[0m         \u001b[0;31m# token     -> BS * fusion_model_dim\u001b[0m\u001b[0;34m\u001b[0m\u001b[0;34m\u001b[0m\u001b[0;34m\u001b[0m\u001b[0m\n\u001b[0;32m---> 70\u001b[0;31m         \u001b[0mx\u001b[0m \u001b[0;34m=\u001b[0m \u001b[0mself\u001b[0m\u001b[0;34m.\u001b[0m\u001b[0mtemporal_enricher\u001b[0m\u001b[0;34m(\u001b[0m\u001b[0mx\u001b[0m\u001b[0;34m,\u001b[0m \u001b[0minit_hid_states\u001b[0m\u001b[0;34m,\u001b[0m \u001b[0minit_cell_states\u001b[0m\u001b[0;34m)\u001b[0m  \u001b[0;31m# BS * seq_len * fusion_model_dim\u001b[0m\u001b[0;34m\u001b[0m\u001b[0;34m\u001b[0m\u001b[0m\n\u001b[0m\u001b[1;32m     71\u001b[0m         \u001b[0mtoken\u001b[0m \u001b[0;34m=\u001b[0m \u001b[0mtoken\u001b[0m\u001b[0;34m.\u001b[0m\u001b[0munsqueeze\u001b[0m\u001b[0;34m(\u001b[0m\u001b[0;36m1\u001b[0m\u001b[0;34m)\u001b[0m\u001b[0;34m\u001b[0m\u001b[0;34m\u001b[0m\u001b[0m\n\u001b[1;32m     72\u001b[0m         \u001b[0mx_fusion\u001b[0m \u001b[0;34m=\u001b[0m \u001b[0mtorch\u001b[0m\u001b[0;34m.\u001b[0m\u001b[0mcat\u001b[0m\u001b[0;34m(\u001b[0m\u001b[0;34m(\u001b[0m\u001b[0mtoken\u001b[0m\u001b[0;34m,\u001b[0m \u001b[0mx\u001b[0m\u001b[0;34m)\u001b[0m\u001b[0;34m,\u001b[0m \u001b[0mdim\u001b[0m\u001b[0;34m=\u001b[0m\u001b[0;36m1\u001b[0m\u001b[0;34m)\u001b[0m\u001b[0;34m\u001b[0m\u001b[0;34m\u001b[0m\u001b[0m\n",
      "\u001b[0;32m~/opt/anaconda3/envs/comp541/lib/python3.7/site-packages/torch/nn/modules/module.py\u001b[0m in \u001b[0;36m_call_impl\u001b[0;34m(self, *input, **kwargs)\u001b[0m\n\u001b[1;32m   1049\u001b[0m         if not (self._backward_hooks or self._forward_hooks or self._forward_pre_hooks or _global_backward_hooks\n\u001b[1;32m   1050\u001b[0m                 or _global_forward_hooks or _global_forward_pre_hooks):\n\u001b[0;32m-> 1051\u001b[0;31m             \u001b[0;32mreturn\u001b[0m \u001b[0mforward_call\u001b[0m\u001b[0;34m(\u001b[0m\u001b[0;34m*\u001b[0m\u001b[0minput\u001b[0m\u001b[0;34m,\u001b[0m \u001b[0;34m**\u001b[0m\u001b[0mkwargs\u001b[0m\u001b[0;34m)\u001b[0m\u001b[0;34m\u001b[0m\u001b[0;34m\u001b[0m\u001b[0m\n\u001b[0m\u001b[1;32m   1052\u001b[0m         \u001b[0;31m# Do not call functions when jit is used\u001b[0m\u001b[0;34m\u001b[0m\u001b[0;34m\u001b[0m\u001b[0;34m\u001b[0m\u001b[0m\n\u001b[1;32m   1053\u001b[0m         \u001b[0mfull_backward_hooks\u001b[0m\u001b[0;34m,\u001b[0m \u001b[0mnon_full_backward_hooks\u001b[0m \u001b[0;34m=\u001b[0m \u001b[0;34m[\u001b[0m\u001b[0;34m]\u001b[0m\u001b[0;34m,\u001b[0m \u001b[0;34m[\u001b[0m\u001b[0;34m]\u001b[0m\u001b[0;34m\u001b[0m\u001b[0;34m\u001b[0m\u001b[0m\n",
      "\u001b[0;32m~/Desktop/Fall 2023/COMP441/Project/code/model/BiLSTM.py\u001b[0m in \u001b[0;36mforward\u001b[0;34m(self, x, hidden_state, cell_state)\u001b[0m\n\u001b[1;32m     16\u001b[0m         \u001b[0;31m# states    -> (num_layers * num_directions) * batch_size * hid_dim\u001b[0m\u001b[0;34m\u001b[0m\u001b[0;34m\u001b[0m\u001b[0;34m\u001b[0m\u001b[0m\n\u001b[1;32m     17\u001b[0m \u001b[0;34m\u001b[0m\u001b[0m\n\u001b[0;32m---> 18\u001b[0;31m         \u001b[0my\u001b[0m\u001b[0;34m,\u001b[0m \u001b[0m_\u001b[0m \u001b[0;34m=\u001b[0m \u001b[0mself\u001b[0m\u001b[0;34m.\u001b[0m\u001b[0mlstm\u001b[0m\u001b[0;34m(\u001b[0m\u001b[0mx\u001b[0m\u001b[0;34m,\u001b[0m \u001b[0;34m(\u001b[0m\u001b[0mhidden_state\u001b[0m\u001b[0;34m,\u001b[0m \u001b[0mcell_state\u001b[0m\u001b[0;34m)\u001b[0m\u001b[0;34m)\u001b[0m\u001b[0;34m\u001b[0m\u001b[0;34m\u001b[0m\u001b[0m\n\u001b[0m\u001b[1;32m     19\u001b[0m         \u001b[0my\u001b[0m \u001b[0;34m=\u001b[0m \u001b[0mself\u001b[0m\u001b[0;34m.\u001b[0m\u001b[0mdropout\u001b[0m\u001b[0;34m(\u001b[0m\u001b[0my\u001b[0m\u001b[0;34m)\u001b[0m\u001b[0;34m\u001b[0m\u001b[0;34m\u001b[0m\u001b[0m\n\u001b[1;32m     20\u001b[0m         \u001b[0my\u001b[0m \u001b[0;34m=\u001b[0m \u001b[0mself\u001b[0m\u001b[0;34m.\u001b[0m\u001b[0mgate\u001b[0m\u001b[0;34m(\u001b[0m\u001b[0my\u001b[0m\u001b[0;34m)\u001b[0m\u001b[0;34m\u001b[0m\u001b[0;34m\u001b[0m\u001b[0m\n",
      "\u001b[0;32m~/opt/anaconda3/envs/comp541/lib/python3.7/site-packages/torch/nn/modules/module.py\u001b[0m in \u001b[0;36m_call_impl\u001b[0;34m(self, *input, **kwargs)\u001b[0m\n\u001b[1;32m   1049\u001b[0m         if not (self._backward_hooks or self._forward_hooks or self._forward_pre_hooks or _global_backward_hooks\n\u001b[1;32m   1050\u001b[0m                 or _global_forward_hooks or _global_forward_pre_hooks):\n\u001b[0;32m-> 1051\u001b[0;31m             \u001b[0;32mreturn\u001b[0m \u001b[0mforward_call\u001b[0m\u001b[0;34m(\u001b[0m\u001b[0;34m*\u001b[0m\u001b[0minput\u001b[0m\u001b[0;34m,\u001b[0m \u001b[0;34m**\u001b[0m\u001b[0mkwargs\u001b[0m\u001b[0;34m)\u001b[0m\u001b[0;34m\u001b[0m\u001b[0;34m\u001b[0m\u001b[0m\n\u001b[0m\u001b[1;32m   1052\u001b[0m         \u001b[0;31m# Do not call functions when jit is used\u001b[0m\u001b[0;34m\u001b[0m\u001b[0;34m\u001b[0m\u001b[0;34m\u001b[0m\u001b[0m\n\u001b[1;32m   1053\u001b[0m         \u001b[0mfull_backward_hooks\u001b[0m\u001b[0;34m,\u001b[0m \u001b[0mnon_full_backward_hooks\u001b[0m \u001b[0;34m=\u001b[0m \u001b[0;34m[\u001b[0m\u001b[0;34m]\u001b[0m\u001b[0;34m,\u001b[0m \u001b[0;34m[\u001b[0m\u001b[0;34m]\u001b[0m\u001b[0;34m\u001b[0m\u001b[0;34m\u001b[0m\u001b[0m\n",
      "\u001b[0;32m~/opt/anaconda3/envs/comp541/lib/python3.7/site-packages/torch/nn/modules/rnn.py\u001b[0m in \u001b[0;36mforward\u001b[0;34m(self, input, hx)\u001b[0m\n\u001b[1;32m    678\u001b[0m         \u001b[0;32mif\u001b[0m \u001b[0mbatch_sizes\u001b[0m \u001b[0;32mis\u001b[0m \u001b[0;32mNone\u001b[0m\u001b[0;34m:\u001b[0m\u001b[0;34m\u001b[0m\u001b[0;34m\u001b[0m\u001b[0m\n\u001b[1;32m    679\u001b[0m             result = _VF.lstm(input, hx, self._flat_weights, self.bias, self.num_layers,\n\u001b[0;32m--> 680\u001b[0;31m                               self.dropout, self.training, self.bidirectional, self.batch_first)\n\u001b[0m\u001b[1;32m    681\u001b[0m         \u001b[0;32melse\u001b[0m\u001b[0;34m:\u001b[0m\u001b[0;34m\u001b[0m\u001b[0;34m\u001b[0m\u001b[0m\n\u001b[1;32m    682\u001b[0m             result = _VF.lstm(input, batch_sizes, hx, self._flat_weights, self.bias,\n",
      "\u001b[0;31mKeyboardInterrupt\u001b[0m: "
     ]
    }
   ],
   "source": [
    "# save the cfg before start\n",
    "HourlySwingModelTrainer.save_cfg(config_model, config_train, out_path=MODEL_OUT_PATH)\n",
    "\n",
    "# train for value only\n",
    "if VALUE_ONLY:\n",
    "    model.set_value_only(True)\n",
    "    optimizer_reg = optim.Adam(model.parameters(), lr=LR)\n",
    "    trainer = HourlySwingModelTrainer(model, train_dataloader, dev_dataloader, test_dataloader, optimizer_reg, device)\n",
    "    trainer.train(epochs=EPOCHS, eval_period=EVAL_PERIOD,\n",
    "                  checkpoint_period=CHECKPOINT_PERIOD, out_path=os.path.join(MODEL_OUT_PATH, \"reg\"))\n",
    "\n",
    "# train for certitude as well\n",
    "else:\n",
    "    model.set_value_only(False)\n",
    "    optimizer_cer = optim.Adam(model.parameters(), lr=LR)\n",
    "    trainer = HourlySwingModelTrainer(model, train_dataloader, dev_dataloader, test_dataloader, optimizer_cer)\n",
    "    trainer.train(epochs=EPOCHS, eval_period=EVAL_PERIOD,\n",
    "                  checkpoint_period=CHECKPOINT_PERIOD, out_path=os.path.join(MODEL_OUT_PATH, \"cer\"))"
   ]
  },
  {
   "cell_type": "code",
   "execution_count": null,
   "id": "b6e141df",
   "metadata": {},
   "outputs": [],
   "source": []
  }
 ],
 "metadata": {
  "kernelspec": {
   "display_name": "Python 3 (ipykernel)",
   "language": "python",
   "name": "python3"
  },
  "language_info": {
   "codemirror_mode": {
    "name": "ipython",
    "version": 3
   },
   "file_extension": ".py",
   "mimetype": "text/x-python",
   "name": "python",
   "nbconvert_exporter": "python",
   "pygments_lexer": "ipython3",
   "version": "3.7.16"
  }
 },
 "nbformat": 4,
 "nbformat_minor": 5
}
