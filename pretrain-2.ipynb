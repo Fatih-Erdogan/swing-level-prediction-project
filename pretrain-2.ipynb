{
 "cells": [
  {
   "cell_type": "code",
   "execution_count": 1,
   "id": "dc13cd6d",
   "metadata": {},
   "outputs": [],
   "source": [
    "import json\n",
    "import os.path\n",
    "\n",
    "import torch.optim as optim\n",
    "import torch\n",
    "from torch.utils.data import DataLoader\n",
    "\n",
    "from utils import find_last_model, load_data, prepare_data\n",
    "from dataloader.SwingDatasets import HourlyDataset\n",
    "from dataloader.SuperTrainerDataset import SuperTrainerDataset\n",
    "from trainer.trainer import HourlySwingModelTrainer\n",
    "from model.swing_model_wp import HourlySwingModel\n",
    "\n",
    "from data.dataset_paths import forex_path_dict, crypto_path_dict, index_path_dict, tz_dict"
   ]
  },
  {
   "cell_type": "code",
   "execution_count": 2,
   "id": "432a92e7",
   "metadata": {},
   "outputs": [],
   "source": [
    "pair_types_dict = {\n",
    "    \"forex\": forex_path_dict,\n",
    "    \"crypto\": crypto_path_dict,\n",
    "    \"index\": index_path_dict\n",
    "}\n",
    "\n",
    "with open(\"config_pretrain.json\", \"r\") as file:\n",
    "    config_train = json.load(file)\n",
    "\n",
    "device = torch.device(\"cuda\" if torch.cuda.is_available() else \"cpu\")"
   ]
  },
  {
   "cell_type": "code",
   "execution_count": 3,
   "id": "0fb4a164",
   "metadata": {},
   "outputs": [],
   "source": [
    "with open(\"config_pretrain.json\", \"r\") as file:\n",
    "    config_train = json.load(file)\n",
    "\n",
    "device = torch.device(\"cuda\" if torch.cuda.is_available() else \"cpu\")\n",
    "\n",
    "# train cfg\n",
    "LOAD_MODEL = config_train[\"load_model\"]\n",
    "TYPE = config_train[\"type\"]\n",
    "WINDOW_SIZE = config_train[\"window_size\"]\n",
    "BATCH_SIZE = config_train[\"batch_size\"]\n",
    "VALUE_ONLY = config_train[\"value_only\"]\n",
    "LR = config_train[\"lr\"]\n",
    "WD = config_train[\"wd\"]\n",
    "EPOCHS = config_train[\"epochs\"]\n",
    "EVAL_PERIOD = config_train[\"eval_period\"]\n",
    "CHECKPOINT_PERIOD = config_train[\"checkpoint_period\"]\n",
    "MODEL_OUT_PATH = config_train[\"model_out\"]"
   ]
  },
  {
   "cell_type": "code",
   "execution_count": 4,
   "id": "9e29c26f",
   "metadata": {},
   "outputs": [],
   "source": [
    "# model cfg\n",
    "with open(\"config_model.json\", \"r\") as file:\n",
    "    config_model = json.load(file)\n",
    "\n",
    "inp_dim = config_model[\"inp_dim\"]                          # fix\n",
    "metadata_dim = config_model[\"metadata_dim\"]                # fix\n",
    "metadata_bias = config_model[\"metadata_bias\"]              \n",
    "metadata_gate_bias = config_model[\"metadata_gate_bias\"]   \n",
    "fusion_model_dim = config_model[\"fusion_model_dim\"]        \n",
    "fusion_num_heads = config_model[\"fusion_num_heads\"]        \n",
    "fusion_num_layers = config_model[\"fusion_num_layers\"]      \n",
    "fusion_apply_grn = config_model[\"fusion_apply_grn\"]        \n",
    "fusion_dropout = config_model[\"fusion_dropout\"]            \n",
    "max_window = config_model[\"max_window\"]                    # fix\n",
    "positional_info = config_model[\"positional_info\"]          \n",
    "lstm_num_layers = config_model[\"lstm_num_layers\"]          \n",
    "lstm_bidirectional = config_model[\"lstm_bidirectional\"]    \n",
    "lstm_dropout = config_model[\"lstm_dropout\"]               \n",
    "loss_punish_cert = config_model[\"loss_punish_cert\"]       "
   ]
  },
  {
   "cell_type": "code",
   "execution_count": 5,
   "id": "44bbe1e5",
   "metadata": {},
   "outputs": [],
   "source": [
    "# load model\n",
    "model = HourlySwingModel(inp_dim=inp_dim, metadata_dim=metadata_dim, metadata_bias=metadata_bias,\n",
    "                         metadata_gate_bias=metadata_gate_bias, fusion_model_dim=fusion_model_dim,\n",
    "                         fusion_num_heads=fusion_num_heads, fusion_num_layers=fusion_num_layers,\n",
    "                         fusion_apply_grn=fusion_apply_grn, fusion_dropout=fusion_dropout,\n",
    "                         max_window=max_window, positional_info=positional_info,\n",
    "                         lstm_num_layers=lstm_num_layers, lstm_bidirectional=lstm_bidirectional,\n",
    "                         lstm_dropout=lstm_dropout, loss_punish_cert=loss_punish_cert, device=device)\n",
    "model.to(device)\n",
    "if LOAD_MODEL is not None:\n",
    "    model_file = find_last_model(LOAD_MODEL)\n",
    "    print(f\"Loading model from: {os.path.join(LOAD_MODEL, model_file)}\")\n",
    "    model.load_state_dict(torch.load(os.path.join(LOAD_MODEL, model_file), map_location=device))"
   ]
  },
  {
   "cell_type": "code",
   "execution_count": 6,
   "id": "7f63dc4f",
   "metadata": {},
   "outputs": [
    {
     "data": {
      "text/plain": [
       "183038"
      ]
     },
     "execution_count": 6,
     "metadata": {},
     "output_type": "execute_result"
    }
   ],
   "source": [
    "num_learnable_params = sum(p.numel() for p in model.parameters() if p.requires_grad)\n",
    "num_learnable_params"
   ]
  },
  {
   "cell_type": "code",
   "execution_count": 7,
   "id": "cfd038f9",
   "metadata": {
    "scrolled": false
   },
   "outputs": [
    {
     "name": "stdout",
     "output_type": "stream",
     "text": [
      "1 - Loading AUDUSD from data/forex/AUDUSD.csv\n",
      "Building train dataset...\n",
      "Trying to replace 1 monday data (0) with (1)\n",
      "Building dev dataset...\n",
      "Trying to replace 1 monday data (0) with (1)\n",
      "AUDUSD loaded.\n",
      "\n",
      "2 - Loading EURUSD from data/forex/EURUSD.csv\n",
      "Building train dataset...\n",
      "Building dev dataset...\n",
      "EURUSD loaded.\n",
      "\n",
      "3 - Loading GBPUSD from data/forex/GBPUSD.csv\n",
      "Building train dataset...\n",
      "Trying to replace 2 monday data (0) with (1)\n",
      "Building dev dataset...\n",
      "Trying to replace 2 monday data (0) with (1)\n",
      "GBPUSD loaded.\n",
      "\n",
      "4 - Loading NZDUSD from data/forex/NZDUSD.csv\n",
      "Building train dataset...\n",
      "Trying to replace 2 monday data (0) with (1)\n",
      "Building dev dataset...\n",
      "Trying to replace 2 monday data (0) with (1)\n",
      "NZDUSD loaded.\n",
      "\n",
      "5 - Loading USDCAD from data/forex/USDCAD.csv\n",
      "Building train dataset...\n",
      "Trying to replace 2 monday data (0) with (1)\n",
      "Building dev dataset...\n",
      "Trying to replace 2 monday data (0) with (1)\n",
      "USDCAD loaded.\n",
      "\n",
      "6 - Loading USDCHF from data/forex/USDCHF.csv\n",
      "Building train dataset...\n",
      "Trying to replace 2 monday data (0) with (1)\n",
      "Building dev dataset...\n",
      "Trying to replace 2 monday data (0) with (1)\n",
      "USDCHF loaded.\n",
      "\n",
      "7 - Loading USDJPY from data/forex/USDJPY.csv\n",
      "Building train dataset...\n",
      "Trying to replace 1 monday data (0) with (1)\n",
      "Building dev dataset...\n",
      "Trying to replace 1 monday data (0) with (1)\n",
      "USDJPY loaded.\n",
      "\n",
      "8 - Loading EURJPY from data/forex/EURJPY.csv\n",
      "Building train dataset...\n",
      "Trying to replace 1 monday data (0) with (1)\n",
      "Building dev dataset...\n",
      "Trying to replace 1 monday data (0) with (1)\n",
      "EURJPY loaded.\n",
      "\n",
      "9 - Loading GBPJPY from data/forex/GBPJPY.csv\n",
      "Building train dataset...\n",
      "Trying to replace 2 monday data (0) with (1)\n",
      "Building dev dataset...\n",
      "Trying to replace 2 monday data (0) with (1)\n",
      "GBPJPY loaded.\n",
      "\n",
      "10 - Loading EURGBP from data/forex/EURGBP.csv\n",
      "Building train dataset...\n",
      "Trying to replace 1 monday data (0) with (1)\n",
      "Building dev dataset...\n",
      "Trying to replace 1 monday data (0) with (1)\n",
      "EURGBP loaded.\n",
      "\n",
      "11 - Loading AUDJPY from data/forex/AUDJPY.csv\n",
      "Building train dataset...\n",
      "Trying to replace 1 monday data (0) with (1)\n",
      "Building dev dataset...\n",
      "Trying to replace 1 monday data (0) with (1)\n",
      "AUDJPY loaded.\n",
      "\n",
      "12 - Loading USDZAR from data/forex/USDZAR.csv\n",
      "Building train dataset...\n",
      "Trying to replace 2 monday data (0) with (1)\n",
      "Building dev dataset...\n",
      "Trying to replace 2 monday data (0) with (1)\n",
      "USDZAR loaded.\n",
      "\n",
      "13 - Loading EURAUD from data/forex/EURAUD.csv\n",
      "Building train dataset...\n",
      "Trying to replace 1 monday data (0) with (1)\n",
      "Building dev dataset...\n",
      "Trying to replace 1 monday data (0) with (1)\n",
      "EURAUD loaded.\n",
      "\n",
      "14 - Loading GBPAUD from data/forex/GBPAUD.csv\n",
      "Building train dataset...\n",
      "Trying to replace 2 monday data (0) with (1)\n",
      "Building dev dataset...\n",
      "Trying to replace 2 monday data (0) with (1)\n",
      "GBPAUD loaded.\n",
      "\n",
      "15 - Loading NZDJPY from data/forex/NZDJPY.csv\n",
      "Building train dataset...\n",
      "Trying to replace 2 monday data (0) with (1)\n",
      "Building dev dataset...\n",
      "Trying to replace 2 monday data (0) with (1)\n",
      "NZDJPY loaded.\n",
      "\n",
      "16 - Loading EURCHF from data/forex/EURCHF.csv\n",
      "Building train dataset...\n",
      "Trying to replace 1 monday data (0) with (1)\n",
      "Building dev dataset...\n",
      "Trying to replace 1 monday data (0) with (1)\n",
      "EURCHF loaded.\n",
      "\n",
      "17 - Loading EURCAD from data/forex/EURCAD.csv\n",
      "Building train dataset...\n",
      "Trying to replace 2 monday data (0) with (1)\n",
      "Building dev dataset...\n",
      "Trying to replace 2 monday data (0) with (1)\n",
      "EURCAD loaded.\n",
      "\n",
      "18 - Loading GBPCHF from data/forex/GBPCHF.csv\n",
      "Building train dataset...\n",
      "Trying to replace 2 monday data (0) with (1)\n",
      "Building dev dataset...\n",
      "Trying to replace 2 monday data (0) with (1)\n",
      "GBPCHF loaded.\n",
      "\n",
      "19 - Loading GBPCAD from data/forex/GBPCAD.csv\n",
      "Building train dataset...\n",
      "Trying to replace 2 monday data (0) with (1)\n",
      "Building dev dataset...\n",
      "Trying to replace 2 monday data (0) with (1)\n",
      "GBPCAD loaded.\n",
      "\n"
     ]
    }
   ],
   "source": [
    "# load data and prepare super_dataset\n",
    "pair_path_dict = pair_types_dict[TYPE]\n",
    "super_train_dataset = SuperTrainerDataset()\n",
    "super_dev_dataset = SuperTrainerDataset()\n",
    "idx = 0\n",
    "for pair, path in pair_path_dict.items():\n",
    "    idx += 1\n",
    "    print(f\"{idx} - Loading {pair.upper()} from {path}\")\n",
    "    # load data\n",
    "    pair_data = load_data(path, add_zigzag_col=True)\n",
    "    pair_data = prepare_data(pair_data, tz_dict[pair])\n",
    "    # prepare dataset\n",
    "    print(f\"Building train dataset...\")\n",
    "    train_dataset = HourlyDataset(pair_data, WINDOW_SIZE, \"train\")\n",
    "    print(f\"Building dev dataset...\")\n",
    "    dev_dataset = HourlyDataset(pair_data, WINDOW_SIZE, \"dev\")\n",
    "    # add to super dataset\n",
    "    super_train_dataset.add_dataset(train_dataset)\n",
    "    super_dev_dataset.add_dataset(dev_dataset)\n",
    "    print(f\"{pair.upper()} loaded.\\n\")\n",
    "\n",
    "train_dataloader = DataLoader(super_train_dataset, batch_size=BATCH_SIZE, shuffle=True,\n",
    "                              collate_fn=HourlyDataset.get_collate_fn())\n",
    "dev_dataloader = DataLoader(super_dev_dataset, batch_size=32, shuffle=False,\n",
    "                            collate_fn=HourlyDataset.get_collate_fn())"
   ]
  },
  {
   "cell_type": "code",
   "execution_count": null,
   "id": "34f98721",
   "metadata": {},
   "outputs": [
    {
     "name": "stdout",
     "output_type": "stream",
     "text": [
      "Model configuration saved to out/pretrain/forex/grn-sin/model_config.json\n",
      "Training configuration saved to out/pretrain/forex/grn-sin/training_config.json\n"
     ]
    },
    {
     "name": "stderr",
     "output_type": "stream",
     "text": [
      "Epoch 1/100: 100%|██████████████| 8240/8240 [42:33<00:00,  3.23it/s, loss=0.602]\n",
      "Evaluating: 100%|███████████████| 2355/2355 [05:24<00:00,  7.26it/s, loss=0.451]\n"
     ]
    },
    {
     "name": "stdout",
     "output_type": "stream",
     "text": [
      "Losses saved to out/pretrain/forex/grn-sin/reg/loss_results.txt\n"
     ]
    },
    {
     "name": "stderr",
     "output_type": "stream",
     "text": [
      "Epoch 2/100: 100%|██████████████| 8240/8240 [43:41<00:00,  3.14it/s, loss=0.511]\n",
      "Evaluating: 100%|███████████████| 2355/2355 [05:26<00:00,  7.22it/s, loss=0.463]\n"
     ]
    },
    {
     "name": "stdout",
     "output_type": "stream",
     "text": [
      "Losses saved to out/pretrain/forex/grn-sin/reg/loss_results.txt\n"
     ]
    },
    {
     "name": "stderr",
     "output_type": "stream",
     "text": [
      "Epoch 3/100: 100%|██████████████| 8240/8240 [44:09<00:00,  3.11it/s, loss=0.477]\n",
      "Evaluating: 100%|████████████████| 2355/2355 [05:14<00:00,  7.49it/s, loss=0.47]\n"
     ]
    },
    {
     "name": "stdout",
     "output_type": "stream",
     "text": [
      "Losses saved to out/pretrain/forex/grn-sin/reg/loss_results.txt\n"
     ]
    },
    {
     "name": "stderr",
     "output_type": "stream",
     "text": [
      "Epoch 4/100: 100%|██████████████| 8240/8240 [42:31<00:00,  3.23it/s, loss=0.448]\n",
      "Evaluating: 100%|███████████████| 2355/2355 [05:12<00:00,  7.55it/s, loss=0.493]\n"
     ]
    },
    {
     "name": "stdout",
     "output_type": "stream",
     "text": [
      "Losses saved to out/pretrain/forex/grn-sin/reg/loss_results.txt\n"
     ]
    },
    {
     "name": "stderr",
     "output_type": "stream",
     "text": [
      "Epoch 5/100: 100%|████████████| 8240/8240 [1:18:22<00:00,  1.75it/s, loss=0.437]\n",
      "Evaluating: 100%|███████████████| 2355/2355 [05:15<00:00,  7.46it/s, loss=0.516]\n"
     ]
    },
    {
     "name": "stdout",
     "output_type": "stream",
     "text": [
      "Losses saved to out/pretrain/forex/grn-sin/reg/loss_results.txt\n"
     ]
    },
    {
     "name": "stderr",
     "output_type": "stream",
     "text": [
      "Epoch 6/100: 100%|██████████████| 8240/8240 [43:29<00:00,  3.16it/s, loss=0.412]\n",
      "Evaluating: 100%|████████████████| 2355/2355 [05:15<00:00,  7.45it/s, loss=0.48]\n"
     ]
    },
    {
     "name": "stdout",
     "output_type": "stream",
     "text": [
      "Losses saved to out/pretrain/forex/grn-sin/reg/loss_results.txt\n"
     ]
    },
    {
     "name": "stderr",
     "output_type": "stream",
     "text": [
      "Epoch 7/100: 100%|██████████████| 8240/8240 [43:42<00:00,  3.14it/s, loss=0.432]\n",
      "Evaluating: 100%|███████████████| 2355/2355 [05:21<00:00,  7.34it/s, loss=0.451]\n"
     ]
    },
    {
     "name": "stdout",
     "output_type": "stream",
     "text": [
      "Losses saved to out/pretrain/forex/grn-sin/reg/loss_results.txt\n"
     ]
    },
    {
     "name": "stderr",
     "output_type": "stream",
     "text": [
      "Epoch 8/100:   3%|▍              | 223/8240 [01:11<42:00,  3.18it/s, loss=0.463]"
     ]
    }
   ],
   "source": [
    "# save the cfg before start\n",
    "HourlySwingModelTrainer.save_cfg(config_model, config_train, out_path=MODEL_OUT_PATH)\n",
    "\n",
    "# train for value only\n",
    "if VALUE_ONLY:\n",
    "    model.set_value_only(True)\n",
    "    optimizer_reg = optim.Adam(model.parameters(), lr=LR)\n",
    "    trainer = HourlySwingModelTrainer(model, train_dataloader, dev_dataloader, None,\n",
    "                                      optimizer_reg, device)\n",
    "    trainer.train(epochs=EPOCHS, eval_period=EVAL_PERIOD,\n",
    "                  checkpoint_period=CHECKPOINT_PERIOD, out_path=os.path.join(MODEL_OUT_PATH, \"reg\"))"
   ]
  },
  {
   "cell_type": "code",
   "execution_count": null,
   "id": "204efdc0",
   "metadata": {},
   "outputs": [],
   "source": []
  }
 ],
 "metadata": {
  "kernelspec": {
   "display_name": "Python 3 (ipykernel)",
   "language": "python",
   "name": "python3"
  },
  "language_info": {
   "codemirror_mode": {
    "name": "ipython",
    "version": 3
   },
   "file_extension": ".py",
   "mimetype": "text/x-python",
   "name": "python",
   "nbconvert_exporter": "python",
   "pygments_lexer": "ipython3",
   "version": "3.7.16"
  }
 },
 "nbformat": 4,
 "nbformat_minor": 5
}
